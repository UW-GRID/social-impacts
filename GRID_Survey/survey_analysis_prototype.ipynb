{
 "cells": [
  {
   "cell_type": "code",
   "execution_count": 1,
   "metadata": {},
   "outputs": [],
   "source": [
    "import pandas as pd\n",
    "import matplotlib.pyplot as plt\n",
    "%matplotlib inline"
   ]
  },
  {
   "cell_type": "code",
   "execution_count": 4,
   "metadata": {},
   "outputs": [],
   "source": [
    "def basic_analysis(csv_file, column_header, number=None, plot=None, normalize=False):\n",
    "    '''This function takes in a survey CSV file and converts it into a pandas dataframe. Then you specify the title \n",
    "       of the column that you would like to analyze. After, it preforms a value count. Next you input the plot type \n",
    "       that you would like to see. This is limited to bar graphs, line graphs, histograms, boxplots, density plots, \n",
    "       area plots, scatter plots, hexagonal bin plots, and pie plots which are the basic plot types in the pandas \n",
    "       wrapper around plt.plot() in matplotlib.'''\n",
    "    df =pd.read_csv(csv_file)\n",
    "    try:\n",
    "        if number is not None:\n",
    "            #this determines the mean and median of numerical data\n",
    "            avg = df[column_header].mean()\n",
    "            mid = df[column_header].median()\n",
    "            print('Mean is ', avg, 'Median is', mid)\n",
    "        else:\n",
    "            print('Number was set to default value')\n",
    "    except TypeError:\n",
    "        #the except accounts for if the user tries to tell the function that it has numerical data when the data is not numerical  \n",
    "        print('The survey responses selected are not numerical.')\n",
    "    finally:\n",
    "        #Uses the pd wrapper plot to create a plot of the specified data \n",
    "        if plot:\n",
    "            #Data is normalized to % if normalize = True. Default to not normalize\n",
    "            df[column_header].value_counts(normalize=normalize).plot(kind=plot)\n",
    "        else:\n",
    "            #Just counts the number of each response. Can be normalized to % or not \n",
    "            counting = df[column_header].value_counts(normalize=normalize)\n",
    "            print(counting)\n",
    "    return plt.show()\n",
    "    "
   ]
  },
  {
   "cell_type": "code",
   "execution_count": 9,
   "metadata": {},
   "outputs": [
    {
     "name": "stdout",
     "output_type": "stream",
     "text": [
      "Mean is  39.87096774193548 Median is 36.0\n"
     ]
    },
    {
     "data": {
      "image/png": "[encoded data removed]",
      "text/plain": [
       "<Figure size 432x288 with 1 Axes>"
      ]
     },
     "metadata": {
      "needs_background": "light"
     },
     "output_type": "display_data"
    }
   ],
   "source": [
    "basic_analysis('INITIA_SURVEY_ANALYSIS_RAW.csv', '1. Age - Transcribed', number=True, plot='bar')"
   ]
  },
  {
   "cell_type": "code",
   "execution_count": null,
   "metadata": {},
   "outputs": [],
   "source": [
    "def subset_analysis(csv_file, column_header, survey_response=None, header2=None, response2=None, plot=None, normalize=False):\n",
    "    ''''''\n",
    "    if survey_response is not None:\n",
    "        df[df[column_header] == survey_response].value_counts((normalize=normalize).plot(kind=plot)\n",
    "    if survey_response and response2 is None:\n",
    "        df[(df[column_header] == survey_response) & (df[header2] == response2)].value_counts((normalize=normalize).plot(kind=plot)"
   ]
  },
  {
   "cell_type": "code",
   "execution_count": null,
   "metadata": {},
   "outputs": [],
   "source": []
  }
 ],
 "metadata": {
  "kernelspec": {
   "display_name": "Python 3",
   "language": "python",
   "name": "python3"
  },
  "language_info": {
   "codemirror_mode": {
    "name": "ipython",
    "version": 3
   },
   "file_extension": ".py",
   "mimetype": "text/x-python",
   "name": "python",
   "nbconvert_exporter": "python",
   "pygments_lexer": "ipython3",
   "version": "3.7.7"
  }
 },
 "nbformat": 4,
 "nbformat_minor": 4
}
